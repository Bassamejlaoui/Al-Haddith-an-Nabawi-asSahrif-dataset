{
 "cells": [
  {
   "cell_type": "code",
   "execution_count": 1,
   "metadata": {},
   "outputs": [],
   "source": [
    "from config_hadith import *\n",
    "from selenium import webdriver\n",
    "from selenium.webdriver.firefox.options import Options\n",
    "import os\n",
    "from time import sleep\n",
    "from math import ceil\n",
    "\n",
    "import pymongo\n",
    "from datetime import datetime\n",
    "import pandas as pd\n",
    "\n",
    "import pymongo\n",
    "\n"
   ]
  },
  {
   "cell_type": "code",
   "execution_count": 2,
   "metadata": {},
   "outputs": [],
   "source": [
    "\n",
    "# client = pymongo.MongoClient()\n",
    "# db = client.Hasdiths\n"
   ]
  },
  {
   "cell_type": "code",
   "execution_count": 3,
   "metadata": {},
   "outputs": [],
   "source": [
    "try:\n",
    "    current_path= os.path.dirname(os.path.abspath(__file__))\n",
    "except:\n",
    "    current_path = '.'"
   ]
  },
  {
   "cell_type": "code",
   "execution_count": 4,
   "metadata": {},
   "outputs": [],
   "source": [
    "def init_driver(gecko_driver='', user_agent='', load_images=True, is_headless=False):\n",
    "    firefox_profile = webdriver.FirefoxProfile()\n",
    "    \n",
    "    firefox_profile.set_preference('dom.ipc.plugins.enabled.libflashplayer.so', False)\n",
    "    firefox_profile.set_preference(\"media.volume_scale\", \"0.0\")\n",
    "    firefox_profile.set_preference(\"dom.webnotifications.enabled\", False)\n",
    "    if user_agent != '':\n",
    "        firefox_profile.set_preference(\"general.useragent.override\", user_agent)\n",
    "    if not load_images:\n",
    "        firefox_profile.set_preference('permissions.default.image', 2)\n",
    "\n",
    "    options = Options()\n",
    "    options.headless = is_headless\n",
    "    \n",
    "    driver = webdriver.Firefox(options=options,\n",
    "                               executable_path=f'{current_path}/{gecko_driver}',\n",
    "                               firefox_profile=firefox_profile)\n",
    "    \n",
    "    return driver\n",
    "\n"
   ]
  },
  {
   "cell_type": "code",
   "execution_count": 5,
   "metadata": {},
   "outputs": [],
   "source": [
    "driver = init_driver(gecko_driver, user_agent=user_agent)\n"
   ]
  },
  {
   "cell_type": "markdown",
   "metadata": {},
   "source": [
    "# 1- Sahih Bukhari"
   ]
  },
  {
   "cell_type": "code",
   "execution_count": 6,
   "metadata": {
    "scrolled": true
   },
   "outputs": [],
   "source": [
    "MAX_PAGE_NUM = 141\n",
    "MAX_PANG_DIG = 3\n",
    "list_of_hadiths = []\n",
    "for i in range(1,MAX_PAGE_NUM+1):\n",
    "    page_num = ((MAX_PANG_DIG - len(str(i))) * \"0\" + str(i))\n",
    "    url = f\"https://www.islambook.com/hadith/0/{page_num}/\"\n",
    "    driver.get(url)\n",
    "    hadiths = driver.find_elements_by_class_name(\"panel-success\")\n",
    "    for hadith in hadiths:\n",
    "        hadith_words = hadith.find_element_by_class_name(\"hadith\")\n",
    "        list_of_hadiths.append(hadith_words.text)\n",
    "#         hadith_info= {\n",
    "#         \"Hadith\": hadith_words.text\n",
    "#         }\n",
    "#         db.hadith.insert_one(hadith_info)\n",
    "    sleep(1)\n",
    "    \n",
    "df_hadith = pd.DataFrame(list_of_hadiths, columns=['Sahih Bukhari'])\n",
    "df_hadith.to_csv('Sahih Bukhari.csv', index = False)\n",
    "\n"
   ]
  },
  {
   "cell_type": "code",
   "execution_count": 7,
   "metadata": {},
   "outputs": [],
   "source": [
    "# pd.DataFrame(list(db.hadith.find()))['Hadith'].head()"
   ]
  },
  {
   "cell_type": "code",
   "execution_count": 8,
   "metadata": {},
   "outputs": [],
   "source": [
    "# data = pd.read_csv('Bukhary_Mongo.csv')\n",
    "# data.head()"
   ]
  },
  {
   "cell_type": "markdown",
   "metadata": {},
   "source": [
    "# 2- Sahih Muslime"
   ]
  },
  {
   "cell_type": "code",
   "execution_count": 9,
   "metadata": {
    "scrolled": true
   },
   "outputs": [],
   "source": [
    "MAX_PAGE_NUM = 108\n",
    "MAX_PANG_DIG = 3\n",
    "list_of_hadiths = []\n",
    "for i in range(1,MAX_PAGE_NUM+1):\n",
    "    page_num = ((MAX_PANG_DIG - len(str(i))) * \"0\" + str(i))\n",
    "    url = f\"https://www.islambook.com/hadith/1/{page_num}/\"\n",
    "    driver.get(url)\n",
    "    hadiths = driver.find_elements_by_class_name(\"panel-success\")\n",
    "    for hadith in hadiths:\n",
    "        hadith_words = hadith.find_element_by_class_name(\"hadith\")\n",
    "        list_of_hadiths.append(hadith_words.text)\n",
    "    sleep(1)\n",
    "        \n",
    "df_hadith = pd.DataFrame(list_of_hadiths, columns=['Sahih Muslim'])\n",
    "df_hadith.to_csv('Sahih Muslim.csv', index = False)"
   ]
  },
  {
   "cell_type": "markdown",
   "metadata": {},
   "source": [
    "# 3- Sunan al Tirmidhi "
   ]
  },
  {
   "cell_type": "code",
   "execution_count": 10,
   "metadata": {},
   "outputs": [],
   "source": [
    "MAX_PAGE_NUM = 78\n",
    "MAX_PANG_DIG = 3\n",
    "list_of_hadiths = []\n",
    "for i in range(1,MAX_PAGE_NUM+1):\n",
    "    page_num = ((MAX_PANG_DIG - len(str(i))) * \"0\" + str(i))\n",
    "    url = f\"https://www.islambook.com/hadith/2/{page_num}/\"\n",
    "    driver.get(url)\n",
    "    hadiths = driver.find_elements_by_class_name(\"panel-success\")\n",
    "    for hadith in hadiths:\n",
    "        hadith_words = hadith.find_element_by_class_name(\"hadith\")\n",
    "        list_of_hadiths.append(hadith_words.text)\n",
    "    sleep(1)\n",
    "        \n",
    "df_hadith = pd.DataFrame(list_of_hadiths, columns=['Sunan al Tirmidhi'])\n",
    "df_hadith.to_csv('Sunan al Tirmidhi.csv', index = False)"
   ]
  },
  {
   "cell_type": "markdown",
   "metadata": {},
   "source": [
    "# 4- Sunan al-Nasai"
   ]
  },
  {
   "cell_type": "code",
   "execution_count": 11,
   "metadata": {},
   "outputs": [],
   "source": [
    "MAX_PAGE_NUM = 114\n",
    "MAX_PANG_DIG = 3\n",
    "list_of_hadiths = []\n",
    "for i in range(1,MAX_PAGE_NUM+1):\n",
    "    page_num = ((MAX_PANG_DIG - len(str(i))) * \"0\" + str(i))\n",
    "    url = f\"https://www.islambook.com/hadith/3/{page_num}/\"\n",
    "    driver.get(url)\n",
    "    hadiths = driver.find_elements_by_class_name(\"panel-success\")\n",
    "    for hadith in hadiths:\n",
    "        hadith_words = hadith.find_element_by_class_name(\"hadith\")\n",
    "        list_of_hadiths.append(hadith_words.text)\n",
    "    sleep(1)\n",
    "        \n",
    "df_hadith = pd.DataFrame(list_of_hadiths, columns=['Sunan al-Nasai'])\n",
    "df_hadith.to_csv('Sunan al-Nasai.csv', index = False)"
   ]
  },
  {
   "cell_type": "markdown",
   "metadata": {},
   "source": [
    "# 5- Sunan Abu Dawud"
   ]
  },
  {
   "cell_type": "code",
   "execution_count": 12,
   "metadata": {},
   "outputs": [],
   "source": [
    "MAX_PAGE_NUM = 92\n",
    "MAX_PANG_DIG = 3\n",
    "list_of_hadiths = []\n",
    "for i in range(1,MAX_PAGE_NUM+1):\n",
    "    page_num = ((MAX_PANG_DIG - len(str(i))) * \"0\" + str(i))\n",
    "    url = f\"https://www.islambook.com/hadith/4/{page_num}/\"\n",
    "    driver.get(url)\n",
    "    hadiths = driver.find_elements_by_class_name(\"panel-success\")\n",
    "    for hadith in hadiths:\n",
    "        hadith_words = hadith.find_element_by_class_name(\"hadith\")\n",
    "        list_of_hadiths.append(hadith_words.text)\n",
    "    sleep(1)\n",
    "        \n",
    "df_hadith = pd.DataFrame(list_of_hadiths, columns=['Sunan Abu Dawud'])\n",
    "df_hadith.to_csv('Sunan Abu Dawud.csv', index = False)"
   ]
  },
  {
   "cell_type": "markdown",
   "metadata": {},
   "source": [
    "# 6- Sunan Ibn Maja "
   ]
  },
  {
   "cell_type": "code",
   "execution_count": 13,
   "metadata": {},
   "outputs": [],
   "source": [
    "MAX_PAGE_NUM = 87\n",
    "MAX_PANG_DIG = 3\n",
    "list_of_hadiths = []\n",
    "for i in range(1,MAX_PAGE_NUM+1):\n",
    "    page_num = ((MAX_PANG_DIG - len(str(i))) * \"0\" + str(i))\n",
    "    url = f\"https://www.islambook.com/hadith/5/{page_num}/\"\n",
    "    driver.get(url)\n",
    "    hadiths = driver.find_elements_by_class_name(\"panel-success\")\n",
    "    for hadith in hadiths:\n",
    "        hadith_words = hadith.find_element_by_class_name(\"hadith\")\n",
    "        list_of_hadiths.append(hadith_words.text)\n",
    "    sleep(1)\n",
    "        \n",
    "df_hadith = pd.DataFrame(list_of_hadiths, columns=['Sunan Ibn Maja'])\n",
    "df_hadith.to_csv('Sunan Ibn Maja.csv', index = False)"
   ]
  },
  {
   "cell_type": "markdown",
   "metadata": {},
   "source": [
    "# 7- Musnad Ahmad ibn Hanbal"
   ]
  },
  {
   "cell_type": "code",
   "execution_count": 14,
   "metadata": {},
   "outputs": [],
   "source": [
    "MAX_PAGE_NUM = 528\n",
    "MAX_PANG_DIG = 3\n",
    "list_of_hadiths = []\n",
    "for i in range(1,MAX_PAGE_NUM+1):\n",
    "    page_num = ((MAX_PANG_DIG - len(str(i))) * \"0\" + str(i))\n",
    "    url = f\"https://www.islambook.com/hadith/6/{page_num}/\"\n",
    "    driver.get(url)\n",
    "    hadiths = driver.find_elements_by_class_name(\"panel-success\")\n",
    "    for hadith in hadiths:\n",
    "        hadith_words = hadith.find_element_by_class_name(\"hadith\")\n",
    "        list_of_hadiths.append(hadith_words.text)\n",
    "    sleep(1)\n",
    "        \n",
    "df_hadith = pd.DataFrame(list_of_hadiths, columns=['Musnad Ahmad ibn Hanbal'])\n",
    "df_hadith.to_csv('Musnad Ahmad ibn Hanbal.csv', index = False)"
   ]
  },
  {
   "cell_type": "markdown",
   "metadata": {},
   "source": [
    "# 8- Maliks Muwatta"
   ]
  },
  {
   "cell_type": "code",
   "execution_count": 15,
   "metadata": {},
   "outputs": [],
   "source": [
    "MAX_PAGE_NUM = 32\n",
    "MAX_PANG_DIG = 3\n",
    "list_of_hadiths = []\n",
    "for i in range(1,MAX_PAGE_NUM+1):\n",
    "    page_num = ((MAX_PANG_DIG - len(str(i))) * \"0\" + str(i))\n",
    "    url = f\"https://www.islambook.com/hadith/7/{page_num}/\"\n",
    "    driver.get(url)\n",
    "    hadiths = driver.find_elements_by_class_name(\"panel-success\")\n",
    "    for hadith in hadiths:\n",
    "        hadith_words = hadith.find_element_by_class_name(\"hadith\")\n",
    "        list_of_hadiths.append(hadith_words.text)\n",
    "    sleep(1)\n",
    "        \n",
    "df_hadith = pd.DataFrame(list_of_hadiths, columns=['Maliks Muwatta'])\n",
    "df_hadith.to_csv('Maliks Muwatta.csv', index = False)"
   ]
  },
  {
   "cell_type": "markdown",
   "metadata": {},
   "source": [
    "# 9- Sunan al Darami"
   ]
  },
  {
   "cell_type": "code",
   "execution_count": 16,
   "metadata": {},
   "outputs": [],
   "source": [
    "MAX_PAGE_NUM = 68\n",
    "MAX_PANG_DIG = 3\n",
    "list_of_hadiths = []\n",
    "for i in range(1,MAX_PAGE_NUM+1):\n",
    "    page_num = ((MAX_PANG_DIG - len(str(i))) * \"0\" + str(i))\n",
    "    url = f\"https://www.islambook.com/hadith/8/{page_num}/\"\n",
    "    driver.get(url)\n",
    "    hadiths = driver.find_elements_by_class_name(\"panel-success\")\n",
    "    for hadith in hadiths:\n",
    "        hadith_words = hadith.find_element_by_class_name(\"hadith\")\n",
    "        list_of_hadiths.append(hadith_words.text)\n",
    "    sleep(1)\n",
    "        \n",
    "df_hadith = pd.DataFrame(list_of_hadiths, columns=['Sunan al Darami'])\n",
    "df_hadith.to_csv('Sunan al Darami.csv', index = False)"
   ]
  },
  {
   "cell_type": "code",
   "execution_count": 17,
   "metadata": {},
   "outputs": [],
   "source": [
    "# df_hadith.head()"
   ]
  },
  {
   "cell_type": "code",
   "execution_count": 18,
   "metadata": {},
   "outputs": [],
   "source": [
    "# df_hadith['Sahih Bukhari'][0]"
   ]
  },
  {
   "cell_type": "markdown",
   "metadata": {},
   "source": [
    "# 1- Sahih Bukhari Without Tashkel"
   ]
  },
  {
   "cell_type": "code",
   "execution_count": 19,
   "metadata": {
    "scrolled": true
   },
   "outputs": [],
   "source": [
    "MAX_PAGE_NUM = 141\n",
    "MAX_PANG_DIG = 3\n",
    "list_of_hadiths = []\n",
    "flag = 0\n",
    "for i in range(1,MAX_PAGE_NUM+1):\n",
    "    page_num = ((MAX_PANG_DIG - len(str(i))) * \"0\" + str(i))\n",
    "    url = f\"https://www.islambook.com/hadith/0/{page_num}/\"\n",
    "    driver.get(url)\n",
    "    \n",
    "#     driver.find_element_by_css_selector('#hadith-frm .form-group .toggle-group .active').click() # work well\n",
    "    # clicking on chage button\n",
    "    if not flag:\n",
    "        driver.find_element_by_class_name(\"toggle-on\").click()\n",
    "        flag = 1\n",
    "    \n",
    "    hadiths = driver.find_elements_by_class_name(\"panel-success\")\n",
    "    for hadith in hadiths:\n",
    "        hadith_words = hadith.find_element_by_class_name(\"hadith\")\n",
    "        list_of_hadiths.append(hadith_words.text)\n",
    "    sleep(1)\n",
    "        \n",
    "df_hadith = pd.DataFrame(list_of_hadiths, columns=['Sahih Bukhari Without_Tashkel'])\n",
    "df_hadith.to_csv('Sahih Bukhari Without_Tashkel.csv', index = False)"
   ]
  },
  {
   "cell_type": "markdown",
   "metadata": {},
   "source": [
    "# 2- Sahih Muslime Without Tashkel"
   ]
  },
  {
   "cell_type": "code",
   "execution_count": 20,
   "metadata": {},
   "outputs": [],
   "source": [
    "MAX_PAGE_NUM = 108\n",
    "MAX_PANG_DIG = 3\n",
    "list_of_hadiths = []\n",
    "for i in range(1,MAX_PAGE_NUM+1):\n",
    "    page_num = ((MAX_PANG_DIG - len(str(i))) * \"0\" + str(i))\n",
    "    url = f\"https://www.islambook.com/hadith/1/{page_num}/\"\n",
    "    driver.get(url)\n",
    "    \n",
    "    #     driver.find_element_by_css_selector('#hadith-frm .form-group .toggle-group .active').click() # work well\n",
    "    # clicking on chage button\n",
    "    if not flag:\n",
    "        driver.find_element_by_class_name(\"toggle-on\").click()\n",
    "        flag = 1\n",
    "\n",
    "    hadiths = driver.find_elements_by_class_name(\"panel-success\")\n",
    "    for hadith in hadiths:\n",
    "        hadith_words = hadith.find_element_by_class_name(\"hadith\")\n",
    "        list_of_hadiths.append(hadith_words.text)\n",
    "    sleep(1)\n",
    "        \n",
    "df_hadith = pd.DataFrame(list_of_hadiths, columns=['Sahih Muslime Without_Tashkel'])\n",
    "df_hadith.to_csv('Sahih Muslime Without_Tashkel.csv', index = False)"
   ]
  },
  {
   "cell_type": "markdown",
   "metadata": {},
   "source": [
    "# 3- Sunan al Tirmidhi Without Tashkel"
   ]
  },
  {
   "cell_type": "code",
   "execution_count": 21,
   "metadata": {},
   "outputs": [],
   "source": [
    "MAX_PAGE_NUM = 78\n",
    "MAX_PANG_DIG = 3\n",
    "list_of_hadiths = []\n",
    "for i in range(1,MAX_PAGE_NUM+1):\n",
    "    page_num = ((MAX_PANG_DIG - len(str(i))) * \"0\" + str(i))\n",
    "    url = f\"https://www.islambook.com/hadith/2/{page_num}/\"\n",
    "    driver.get(url)\n",
    "    #     driver.find_element_by_css_selector('#hadith-frm .form-group .toggle-group .active').click() # work well\n",
    "    # clicking on chage button\n",
    "    if not flag:\n",
    "        driver.find_element_by_class_name(\"toggle-on\").click()\n",
    "        flag = 1\n",
    "\n",
    "    hadiths = driver.find_elements_by_class_name(\"panel-success\")\n",
    "    for hadith in hadiths:\n",
    "        hadith_words = hadith.find_element_by_class_name(\"hadith\")\n",
    "        list_of_hadiths.append(hadith_words.text)\n",
    "    sleep(1)\n",
    "        \n",
    "df_hadith = pd.DataFrame(list_of_hadiths, columns=['Sunan al Tirmidhi Without_Tashkel'])\n",
    "df_hadith.to_csv('Sunan al Tirmidhi Without_Tashkel.csv', index = False)"
   ]
  },
  {
   "cell_type": "markdown",
   "metadata": {},
   "source": [
    "# 4- Sunan al-Nasai Without Tashkel"
   ]
  },
  {
   "cell_type": "code",
   "execution_count": 22,
   "metadata": {},
   "outputs": [],
   "source": [
    "MAX_PAGE_NUM = 114\n",
    "MAX_PANG_DIG = 3\n",
    "list_of_hadiths = []\n",
    "for i in range(1,MAX_PAGE_NUM+1):\n",
    "    page_num = ((MAX_PANG_DIG - len(str(i))) * \"0\" + str(i))\n",
    "    url = f\"https://www.islambook.com/hadith/3/{page_num}/\"\n",
    "    driver.get(url)\n",
    "    #     driver.find_element_by_css_selector('#hadith-frm .form-group .toggle-group .active').click() # work well\n",
    "    # clicking on chage button\n",
    "    if not flag:\n",
    "        driver.find_element_by_class_name(\"toggle-on\").click()\n",
    "        flag = 1\n",
    "\n",
    "    hadiths = driver.find_elements_by_class_name(\"panel-success\")\n",
    "    for hadith in hadiths:\n",
    "        hadith_words = hadith.find_element_by_class_name(\"hadith\")\n",
    "        list_of_hadiths.append(hadith_words.text)\n",
    "    sleep(1)\n",
    "        \n",
    "df_hadith = pd.DataFrame(list_of_hadiths, columns=['Sunan al-Nasai Without_Tashkel'])\n",
    "df_hadith.to_csv('Sunan al-Nasai Without_Tashkel.csv', index = False)"
   ]
  },
  {
   "cell_type": "markdown",
   "metadata": {},
   "source": [
    "# 5- Sunan Abu Dawud Without Tashkel"
   ]
  },
  {
   "cell_type": "code",
   "execution_count": 23,
   "metadata": {},
   "outputs": [],
   "source": [
    "MAX_PAGE_NUM = 92\n",
    "MAX_PANG_DIG = 3\n",
    "list_of_hadiths = []\n",
    "for i in range(1,MAX_PAGE_NUM+1):\n",
    "    page_num = ((MAX_PANG_DIG - len(str(i))) * \"0\" + str(i))\n",
    "    url = f\"https://www.islambook.com/hadith/4/{page_num}/\"\n",
    "    driver.get(url)\n",
    "    #     driver.find_element_by_css_selector('#hadith-frm .form-group .toggle-group .active').click() # work well\n",
    "    # clicking on chage button\n",
    "    if not flag:\n",
    "        driver.find_element_by_class_name(\"toggle-on\").click()\n",
    "        flag = 1\n",
    "\n",
    "    hadiths = driver.find_elements_by_class_name(\"panel-success\")\n",
    "    for hadith in hadiths:\n",
    "        hadith_words = hadith.find_element_by_class_name(\"hadith\")\n",
    "        list_of_hadiths.append(hadith_words.text)\n",
    "    sleep(1)\n",
    "        \n",
    "df_hadith = pd.DataFrame(list_of_hadiths, columns=['Sunan Abu Dawud Without_Tashkel'])\n",
    "df_hadith.to_csv('Sunan Abu Dawud Without_Tashkel.csv', index = False)"
   ]
  },
  {
   "cell_type": "markdown",
   "metadata": {},
   "source": [
    "# 6- Sunan Ibn Maja Without Tashkel"
   ]
  },
  {
   "cell_type": "code",
   "execution_count": 24,
   "metadata": {},
   "outputs": [],
   "source": [
    "MAX_PAGE_NUM = 87\n",
    "MAX_PANG_DIG = 3\n",
    "list_of_hadiths = []\n",
    "for i in range(1,MAX_PAGE_NUM+1):\n",
    "    page_num = ((MAX_PANG_DIG - len(str(i))) * \"0\" + str(i))\n",
    "    url = f\"https://www.islambook.com/hadith/5/{page_num}/\"\n",
    "    driver.get(url)\n",
    "    #     driver.find_element_by_css_selector('#hadith-frm .form-group .toggle-group .active').click() # work well\n",
    "    # clicking on chage button\n",
    "    if not flag:\n",
    "        driver.find_element_by_class_name(\"toggle-on\").click()\n",
    "        flag = 1\n",
    "\n",
    "    hadiths = driver.find_elements_by_class_name(\"panel-success\")\n",
    "    for hadith in hadiths:\n",
    "        hadith_words = hadith.find_element_by_class_name(\"hadith\")\n",
    "        list_of_hadiths.append(hadith_words.text)\n",
    "    sleep(1)\n",
    "        \n",
    "df_hadith = pd.DataFrame(list_of_hadiths, columns=['Sunan Ibn Maja Without_Tashkel'])\n",
    "df_hadith.to_csv('Sunan Ibn Maja Without_Tashkel.csv', index = False)"
   ]
  },
  {
   "cell_type": "markdown",
   "metadata": {},
   "source": [
    "# 7- Musnad Ahmad ibn Hanbal Without Tashkel"
   ]
  },
  {
   "cell_type": "code",
   "execution_count": 25,
   "metadata": {},
   "outputs": [],
   "source": [
    "MAX_PAGE_NUM = 528\n",
    "MAX_PANG_DIG = 3\n",
    "list_of_hadiths = []\n",
    "for i in range(1,MAX_PAGE_NUM+1):\n",
    "    page_num = ((MAX_PANG_DIG - len(str(i))) * \"0\" + str(i))\n",
    "    url = f\"https://www.islambook.com/hadith/6/{page_num}/\"\n",
    "    driver.get(url)\n",
    "    #     driver.find_element_by_css_selector('#hadith-frm .form-group .toggle-group .active').click() # work well\n",
    "    # clicking on chage button\n",
    "    if not flag:\n",
    "        driver.find_element_by_class_name(\"toggle-on\").click()\n",
    "        flag = 1\n",
    "\n",
    "    hadiths = driver.find_elements_by_class_name(\"panel-success\")\n",
    "    for hadith in hadiths:\n",
    "        hadith_words = hadith.find_element_by_class_name(\"hadith\")\n",
    "        list_of_hadiths.append(hadith_words.text)\n",
    "    sleep(1)\n",
    "        \n",
    "df_hadith = pd.DataFrame(list_of_hadiths, columns=['Musnad Ahmad ibn Hanbal Without_Tashkel'])\n",
    "df_hadith.to_csv('Musnad Ahmad ibn Hanbal Without_Tashkel.csv', index = False)"
   ]
  },
  {
   "cell_type": "markdown",
   "metadata": {},
   "source": [
    "# 8- Maliks Muwatta Without Tashkel"
   ]
  },
  {
   "cell_type": "code",
   "execution_count": 26,
   "metadata": {},
   "outputs": [],
   "source": [
    "MAX_PAGE_NUM = 32\n",
    "MAX_PANG_DIG = 3\n",
    "list_of_hadiths = []\n",
    "for i in range(1,MAX_PAGE_NUM+1):\n",
    "    page_num = ((MAX_PANG_DIG - len(str(i))) * \"0\" + str(i))\n",
    "    url = f\"https://www.islambook.com/hadith/7/{page_num}/\"\n",
    "    driver.get(url)\n",
    "    #     driver.find_element_by_css_selector('#hadith-frm .form-group .toggle-group .active').click() # work well\n",
    "    # clicking on chage button\n",
    "    if not flag:\n",
    "        driver.find_element_by_class_name(\"toggle-on\").click()\n",
    "        flag = 1\n",
    "\n",
    "    hadiths = driver.find_elements_by_class_name(\"panel-success\")\n",
    "    for hadith in hadiths:\n",
    "        hadith_words = hadith.find_element_by_class_name(\"hadith\")\n",
    "        list_of_hadiths.append(hadith_words.text)\n",
    "    sleep(1)\n",
    "        \n",
    "df_hadith = pd.DataFrame(list_of_hadiths, columns=['Maliks Muwatta Without_Tashkel'])\n",
    "df_hadith.to_csv('Maliks Muwatta Without_Tashkel.csv', index = False)"
   ]
  },
  {
   "cell_type": "markdown",
   "metadata": {},
   "source": [
    "# 9- Sunan al Darami Without Tashkel"
   ]
  },
  {
   "cell_type": "code",
   "execution_count": 27,
   "metadata": {},
   "outputs": [],
   "source": [
    "MAX_PAGE_NUM = 68\n",
    "MAX_PANG_DIG = 3\n",
    "list_of_hadiths = []\n",
    "for i in range(1,MAX_PAGE_NUM+1):\n",
    "    page_num = ((MAX_PANG_DIG - len(str(i))) * \"0\" + str(i))\n",
    "    url = f\"https://www.islambook.com/hadith/8/{page_num}/\"\n",
    "    driver.get(url)\n",
    "    #     driver.find_element_by_css_selector('#hadith-frm .form-group .toggle-group .active').click() # work well\n",
    "    # clicking on chage button\n",
    "    if not flag:\n",
    "        driver.find_element_by_class_name(\"toggle-on\").click()\n",
    "        flag = 1\n",
    "\n",
    "    hadiths = driver.find_elements_by_class_name(\"panel-success\")\n",
    "    for hadith in hadiths:\n",
    "        hadith_words = hadith.find_element_by_class_name(\"hadith\")\n",
    "        list_of_hadiths.append(hadith_words.text)\n",
    "    sleep(1)\n",
    "        \n",
    "df_hadith = pd.DataFrame(list_of_hadiths, columns=['Sunan al Darami Without_Tashkel'])\n",
    "df_hadith.to_csv('Sunan al Darami Without_Tashkel.csv', index = False)"
   ]
  },
  {
   "cell_type": "markdown",
   "metadata": {},
   "source": []
  },
  {
   "cell_type": "code",
   "execution_count": null,
   "metadata": {},
   "outputs": [],
   "source": []
  },
  {
   "cell_type": "code",
   "execution_count": null,
   "metadata": {},
   "outputs": [],
   "source": []
  },
  {
   "cell_type": "code",
   "execution_count": null,
   "metadata": {},
   "outputs": [],
   "source": []
  },
  {
   "cell_type": "code",
   "execution_count": null,
   "metadata": {},
   "outputs": [],
   "source": []
  },
  {
   "cell_type": "code",
   "execution_count": null,
   "metadata": {},
   "outputs": [],
   "source": []
  },
  {
   "cell_type": "code",
   "execution_count": null,
   "metadata": {},
   "outputs": [],
   "source": []
  },
  {
   "cell_type": "code",
   "execution_count": null,
   "metadata": {},
   "outputs": [],
   "source": []
  },
  {
   "cell_type": "code",
   "execution_count": null,
   "metadata": {},
   "outputs": [],
   "source": []
  },
  {
   "cell_type": "code",
   "execution_count": null,
   "metadata": {},
   "outputs": [],
   "source": []
  },
  {
   "cell_type": "code",
   "execution_count": null,
   "metadata": {},
   "outputs": [],
   "source": []
  }
 ],
 "metadata": {
  "kernelspec": {
   "display_name": "newEnv",
   "language": "python",
   "name": "newenv"
  },
  "language_info": {
   "codemirror_mode": {
    "name": "ipython",
    "version": 3
   },
   "file_extension": ".py",
   "mimetype": "text/x-python",
   "name": "python",
   "nbconvert_exporter": "python",
   "pygments_lexer": "ipython3",
   "version": "3.7.1"
  }
 },
 "nbformat": 4,
 "nbformat_minor": 2
}
